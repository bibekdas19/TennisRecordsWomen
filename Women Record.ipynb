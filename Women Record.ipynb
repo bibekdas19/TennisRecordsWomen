{
 "cells": [
  {
   "cell_type": "markdown",
   "metadata": {},
   "source": [
    "# Grand Slam Tennis"
   ]
  },
  {
   "cell_type": "markdown",
   "metadata": {},
   "source": [
    "The Grand Slam tournaments, also referred to as majors, are the world's four most important annual tennis events. The tournaments offer the most ranking points, prize money, public and media attention, the greatest strength and size of field, and greater number of \"best of\" sets for men, which is 5. The Grand Slam itinerary consists of the Australian Open in mid January, the French Open from late May to early June, Wimbledon in late June to early July, and the US Open in August–September. Each tournament is played over a two-week period.\n",
    "\n",
    "The Australian and the United States tournaments are played on hard courts,the French on clay, and Wimbledon on natural grass."
   ]
  },
  {
   "cell_type": "code",
   "execution_count": 1,
   "metadata": {},
   "outputs": [
    {
     "data": {
      "text/plain": [
       "'D:\\\\data science with python\\\\jupyter notebook'"
      ]
     },
     "execution_count": 1,
     "metadata": {},
     "output_type": "execute_result"
    }
   ],
   "source": [
    "import numpy as np\n",
    "import matplotlib.pyplot as plt\n",
    "import pandas as pd\n",
    "import os\n",
    "import seaborn as sns\n",
    "os.getcwd()"
   ]
  },
  {
   "cell_type": "code",
   "execution_count": 2,
   "metadata": {},
   "outputs": [
    {
     "data": {
      "text/plain": [
       "['.ipynb_checkpoints',\n",
       " '2015 Earthquake Analysis.ipynb',\n",
       " 'Champions.xlsx',\n",
       " 'Disaster data',\n",
       " 'Earthquake1.csv',\n",
       " 'Earthquake2015.csv',\n",
       " 'Earthquake2019.csv',\n",
       " 'Earthquake2020.csv',\n",
       " 'example.json',\n",
       " 'excel file.ipynb',\n",
       " 'Food Demand Forecasting.ipynb',\n",
       " 'fsd01-tennis-grand-slam-championships-champion-vs-runner-up-women',\n",
       " 'fulfilment_center_info.csv',\n",
       " 'Heros.xlsx',\n",
       " 'meal_info.csv',\n",
       " 'Monarchs-of-England.csv',\n",
       " 'Monarchs.ipynb',\n",
       " 'Natural Language Processing.ipynb',\n",
       " 'notebook',\n",
       " 'numpy_detail.ipynb',\n",
       " 'numpy_detail_class_27Aug.ipynb',\n",
       " 'project1.csv',\n",
       " 'project1.ipynb',\n",
       " 'Scraping_Seismonepal_Class_File.ipynb',\n",
       " 'solution.csv.csv',\n",
       " 'solution1.csv.csv',\n",
       " 'solution2.csv.csv',\n",
       " 'submission1.csv',\n",
       " 'submission_food.csv',\n",
       " 'task7.py',\n",
       " 'Tennis data',\n",
       " 'tennis.csv',\n",
       " 'Tennis.ipynb',\n",
       " 'test.csv',\n",
       " 'test_data.csv',\n",
       " 'test_food.csv',\n",
       " 'train.csv',\n",
       " 'train_data.csv',\n",
       " 'train_loan.csv',\n",
       " 'untitled',\n",
       " 'Untitled.ipynb',\n",
       " 'Untitled1.ipynb',\n",
       " 'Untitled2.ipynb',\n",
       " 'Untitled3.ipynb',\n",
       " 'Untitled4.ipynb',\n",
       " 'Untitled5.ipynb',\n",
       " 'Untitled6.ipynb',\n",
       " 'Untitled7.ipynb',\n",
       " 'Untitled8.ipynb',\n",
       " 'Wimbledon Championships1968-2019.csv',\n",
       " 'Wimbledon Data Analysis .ipynb',\n",
       " 'Women Record.ipynb']"
      ]
     },
     "execution_count": 2,
     "metadata": {},
     "output_type": "execute_result"
    }
   ],
   "source": [
    "os.listdir(os.getcwd())"
   ]
  },
  {
   "cell_type": "code",
   "execution_count": 3,
   "metadata": {},
   "outputs": [],
   "source": [
    "GrandSlam = pd.read_csv('fsd01-tennis-grand-slam-championships-champion-vs-runner-up-women/Grand Slam Championships.csv')"
   ]
  },
  {
   "cell_type": "code",
   "execution_count": 4,
   "metadata": {},
   "outputs": [
    {
     "data": {
      "text/html": [
       "<div>\n",
       "<style scoped>\n",
       "    .dataframe tbody tr th:only-of-type {\n",
       "        vertical-align: middle;\n",
       "    }\n",
       "\n",
       "    .dataframe tbody tr th {\n",
       "        vertical-align: top;\n",
       "    }\n",
       "\n",
       "    .dataframe thead th {\n",
       "        text-align: right;\n",
       "    }\n",
       "</style>\n",
       "<table border=\"1\" class=\"dataframe\">\n",
       "  <thead>\n",
       "    <tr style=\"text-align: right;\">\n",
       "      <th></th>\n",
       "      <th>Year</th>\n",
       "      <th>Major</th>\n",
       "      <th>Champion</th>\n",
       "      <th>Seed_Champion</th>\n",
       "      <th>Ctry_Champion</th>\n",
       "      <th>Runner-up</th>\n",
       "      <th>Seed_Runner-up</th>\n",
       "      <th>Ctry_Runner-up</th>\n",
       "      <th>Score in the Final</th>\n",
       "    </tr>\n",
       "  </thead>\n",
       "  <tbody>\n",
       "    <tr>\n",
       "      <th>0</th>\n",
       "      <td>1968</td>\n",
       "      <td>2</td>\n",
       "      <td>Nancy Richey</td>\n",
       "      <td>5</td>\n",
       "      <td>USA</td>\n",
       "      <td>Ann Haydon Jones</td>\n",
       "      <td>2</td>\n",
       "      <td>GBR</td>\n",
       "      <td>5–7, 6–4, 6–1</td>\n",
       "    </tr>\n",
       "    <tr>\n",
       "      <th>1</th>\n",
       "      <td>1968</td>\n",
       "      <td>3</td>\n",
       "      <td>Billie Jean King</td>\n",
       "      <td>1</td>\n",
       "      <td>USA</td>\n",
       "      <td>Judy Tegart</td>\n",
       "      <td>7</td>\n",
       "      <td>AUS</td>\n",
       "      <td>9–7, 7–5</td>\n",
       "    </tr>\n",
       "    <tr>\n",
       "      <th>2</th>\n",
       "      <td>1968</td>\n",
       "      <td>4</td>\n",
       "      <td>Virginia Wade</td>\n",
       "      <td>6</td>\n",
       "      <td>GBR</td>\n",
       "      <td>Billie Jean King</td>\n",
       "      <td>1</td>\n",
       "      <td>USA</td>\n",
       "      <td>6–4, 6–2</td>\n",
       "    </tr>\n",
       "    <tr>\n",
       "      <th>3</th>\n",
       "      <td>1969</td>\n",
       "      <td>1</td>\n",
       "      <td>Margaret Court</td>\n",
       "      <td>2</td>\n",
       "      <td>AUS</td>\n",
       "      <td>Billie Jean King</td>\n",
       "      <td>1</td>\n",
       "      <td>USA</td>\n",
       "      <td>6–4, 6–1</td>\n",
       "    </tr>\n",
       "    <tr>\n",
       "      <th>4</th>\n",
       "      <td>1969</td>\n",
       "      <td>2</td>\n",
       "      <td>Margaret Court</td>\n",
       "      <td>1</td>\n",
       "      <td>AUS</td>\n",
       "      <td>Ann Haydon Jones</td>\n",
       "      <td>3</td>\n",
       "      <td>GBR</td>\n",
       "      <td>6–1, 4–6, 6–3</td>\n",
       "    </tr>\n",
       "  </tbody>\n",
       "</table>\n",
       "</div>"
      ],
      "text/plain": [
       "   Year  Major          Champion  Seed_Champion Ctry_Champion  \\\n",
       "0  1968      2      Nancy Richey              5           USA   \n",
       "1  1968      3  Billie Jean King              1           USA   \n",
       "2  1968      4     Virginia Wade              6           GBR   \n",
       "3  1969      1    Margaret Court              2           AUS   \n",
       "4  1969      2    Margaret Court              1           AUS   \n",
       "\n",
       "          Runner-up  Seed_Runner-up Ctry_Runner-up Score in the Final  \n",
       "0  Ann Haydon Jones               2            GBR      5–7, 6–4, 6–1  \n",
       "1       Judy Tegart               7            AUS           9–7, 7–5  \n",
       "2  Billie Jean King               1            USA           6–4, 6–2  \n",
       "3  Billie Jean King               1            USA           6–4, 6–1  \n",
       "4  Ann Haydon Jones               3            GBR      6–1, 4–6, 6–3  "
      ]
     },
     "execution_count": 4,
     "metadata": {},
     "output_type": "execute_result"
    }
   ],
   "source": [
    "GrandSlam.head()"
   ]
  },
  {
   "cell_type": "code",
   "execution_count": 24,
   "metadata": {},
   "outputs": [],
   "source": [
    "Most_Champions = GrandSlam.Champion.value_counts()"
   ]
  },
  {
   "cell_type": "code",
   "execution_count": 27,
   "metadata": {},
   "outputs": [],
   "source": [
    "ChampionNation = GrandSlam['Ctry_Champion'].value_counts()"
   ]
  },
  {
   "cell_type": "code",
   "execution_count": 5,
   "metadata": {},
   "outputs": [],
   "source": [
    "AustralianOpen = GrandSlam[GrandSlam['Major'] == 1]"
   ]
  },
  {
   "cell_type": "code",
   "execution_count": 6,
   "metadata": {},
   "outputs": [
    {
     "data": {
      "text/plain": [
       "Serena Williams     7\n",
       "Margaret Court      4\n",
       "Evonne Goolagong    4\n",
       "Monica Seles        4\n",
       "Steffi Graf         4\n",
       "Name: Champion, dtype: int64"
      ]
     },
     "execution_count": 6,
     "metadata": {},
     "output_type": "execute_result"
    }
   ],
   "source": [
    "MostAus = AustralianOpen.Champion.value_counts()\n",
    "MostAus.head()"
   ]
  },
  {
   "cell_type": "code",
   "execution_count": 7,
   "metadata": {},
   "outputs": [
    {
     "data": {
      "text/plain": [
       "Chris Evert            4\n",
       "Evonne Goolagong       3\n",
       "Maria Sharapova        3\n",
       "Martina Navratilova    3\n",
       "Martina Hingis         3\n",
       "Name: Runner-up, dtype: int64"
      ]
     },
     "execution_count": 7,
     "metadata": {},
     "output_type": "execute_result"
    }
   ],
   "source": [
    "AustralianOpen['Runner-up'].value_counts().head()"
   ]
  },
  {
   "cell_type": "code",
   "execution_count": 8,
   "metadata": {},
   "outputs": [
    {
     "data": {
      "text/plain": [
       "USA    18\n",
       "AUS    10\n",
       "SUI     3\n",
       "FRG     3\n",
       "GER     2\n",
       "Name: Ctry_Champion, dtype: int64"
      ]
     },
     "execution_count": 8,
     "metadata": {},
     "output_type": "execute_result"
    }
   ],
   "source": [
    "AustralianOpen['Ctry_Champion'].value_counts().head()"
   ]
  },
  {
   "cell_type": "code",
   "execution_count": 9,
   "metadata": {},
   "outputs": [],
   "source": [
    "FrenchOpen = GrandSlam[GrandSlam['Major'] == 2]"
   ]
  },
  {
   "cell_type": "code",
   "execution_count": 10,
   "metadata": {},
   "outputs": [
    {
     "data": {
      "text/plain": [
       "Chris Evert       7\n",
       "Steffi Graf       6\n",
       "Justine Henin     4\n",
       "Monica Seles      3\n",
       "Margaret Court    3\n",
       "Name: Champion, dtype: int64"
      ]
     },
     "execution_count": 10,
     "metadata": {},
     "output_type": "execute_result"
    }
   ],
   "source": [
    "MostFrench = FrenchOpen.Champion.value_counts()\n",
    "MostFrench.head()"
   ]
  },
  {
   "cell_type": "code",
   "execution_count": 11,
   "metadata": {},
   "outputs": [
    {
     "data": {
      "text/plain": [
       "Martina Navratilova        4\n",
       "Arantxa Sánchez Vicario    3\n",
       "Steffi Graf                3\n",
       "Chris Evert                2\n",
       "Mary Pierce                2\n",
       "Name: Runner-up, dtype: int64"
      ]
     },
     "execution_count": 11,
     "metadata": {},
     "output_type": "execute_result"
    }
   ],
   "source": [
    "FrenchOpen['Runner-up'].value_counts().head()"
   ]
  },
  {
   "cell_type": "code",
   "execution_count": 12,
   "metadata": {},
   "outputs": [
    {
     "data": {
      "text/plain": [
       "USA    15\n",
       "AUS     5\n",
       "YUG     4\n",
       "RUS     4\n",
       "BEL     4\n",
       "Name: Ctry_Champion, dtype: int64"
      ]
     },
     "execution_count": 12,
     "metadata": {},
     "output_type": "execute_result"
    }
   ],
   "source": [
    "FrenchOpen['Ctry_Champion'].value_counts().head()"
   ]
  },
  {
   "cell_type": "code",
   "execution_count": 13,
   "metadata": {},
   "outputs": [],
   "source": [
    "Wimbledon = GrandSlam[GrandSlam['Major'] == 3]"
   ]
  },
  {
   "cell_type": "code",
   "execution_count": 14,
   "metadata": {},
   "outputs": [
    {
     "data": {
      "text/plain": [
       "Martina Navratilova    9\n",
       "Serena Williams        7\n",
       "Steffi Graf            7\n",
       "Venus Williams         5\n",
       "Billie Jean King       4\n",
       "Name: Champion, dtype: int64"
      ]
     },
     "execution_count": 14,
     "metadata": {},
     "output_type": "execute_result"
    }
   ],
   "source": [
    "MostWim = Wimbledon.Champion.value_counts()\n",
    "MostWim.head()"
   ]
  },
  {
   "cell_type": "code",
   "execution_count": 15,
   "metadata": {},
   "outputs": [
    {
     "data": {
      "text/plain": [
       "Chris Evert Lloyd      5\n",
       "Serena Williams        4\n",
       "Venus Williams         4\n",
       "Martina Navratilova    3\n",
       "Steffi Graf            2\n",
       "Name: Runner-up, dtype: int64"
      ]
     },
     "execution_count": 15,
     "metadata": {},
     "output_type": "execute_result"
    }
   ],
   "source": [
    "Wimbledon['Runner-up'].value_counts().head()"
   ]
  },
  {
   "cell_type": "code",
   "execution_count": 16,
   "metadata": {},
   "outputs": [
    {
     "data": {
      "text/plain": [
       "USA    29\n",
       "GER     6\n",
       "ESP     2\n",
       "GBR     2\n",
       "FRG     2\n",
       "Name: Ctry_Champion, dtype: int64"
      ]
     },
     "execution_count": 16,
     "metadata": {},
     "output_type": "execute_result"
    }
   ],
   "source": [
    "Wimbledon['Ctry_Champion'].value_counts().head()"
   ]
  },
  {
   "cell_type": "code",
   "execution_count": 17,
   "metadata": {},
   "outputs": [],
   "source": [
    "USOpen = GrandSlam[GrandSlam['Major'] == 4]"
   ]
  },
  {
   "cell_type": "code",
   "execution_count": 18,
   "metadata": {},
   "outputs": [
    {
     "data": {
      "text/plain": [
       "Chris Evert            6\n",
       "Serena Williams        6\n",
       "Steffi Graf            5\n",
       "Martina Navratilova    4\n",
       "Billie Jean King       3\n",
       "Name: Champion, dtype: int64"
      ]
     },
     "execution_count": 18,
     "metadata": {},
     "output_type": "execute_result"
    }
   ],
   "source": [
    "MostUs = USOpen.Champion.value_counts()\n",
    "MostUs.head()"
   ]
  },
  {
   "cell_type": "code",
   "execution_count": 19,
   "metadata": {},
   "outputs": [
    {
     "data": {
      "text/plain": [
       "Serena Williams            4\n",
       "Evonne Goolagong Cawley    4\n",
       "Martina Navratilova        4\n",
       "Steffi Graf                3\n",
       "Victoria Azarenka          3\n",
       "Name: Runner-up, dtype: int64"
      ]
     },
     "execution_count": 19,
     "metadata": {},
     "output_type": "execute_result"
    }
   ],
   "source": [
    "USOpen['Runner-up'].value_counts().head()"
   ]
  },
  {
   "cell_type": "code",
   "execution_count": 20,
   "metadata": {},
   "outputs": [
    {
     "data": {
      "text/plain": [
       "USA    25\n",
       "BEL     5\n",
       "AUS     4\n",
       "GER     4\n",
       "YUG     2\n",
       "Name: Ctry_Champion, dtype: int64"
      ]
     },
     "execution_count": 20,
     "metadata": {},
     "output_type": "execute_result"
    }
   ],
   "source": [
    "USOpen['Ctry_Champion'].value_counts().head()"
   ]
  },
  {
   "cell_type": "code",
   "execution_count": 21,
   "metadata": {},
   "outputs": [
    {
     "data": {
      "text/html": [
       "<div>\n",
       "<style scoped>\n",
       "    .dataframe tbody tr th:only-of-type {\n",
       "        vertical-align: middle;\n",
       "    }\n",
       "\n",
       "    .dataframe tbody tr th {\n",
       "        vertical-align: top;\n",
       "    }\n",
       "\n",
       "    .dataframe thead th {\n",
       "        text-align: right;\n",
       "    }\n",
       "</style>\n",
       "<table border=\"1\" class=\"dataframe\">\n",
       "  <thead>\n",
       "    <tr style=\"text-align: right;\">\n",
       "      <th></th>\n",
       "      <th>Champion_x</th>\n",
       "      <th>Champion_y</th>\n",
       "    </tr>\n",
       "  </thead>\n",
       "  <tbody>\n",
       "    <tr>\n",
       "      <th>Chris Evert</th>\n",
       "      <td>6</td>\n",
       "      <td>2</td>\n",
       "    </tr>\n",
       "    <tr>\n",
       "      <th>Serena Williams</th>\n",
       "      <td>6</td>\n",
       "      <td>7</td>\n",
       "    </tr>\n",
       "    <tr>\n",
       "      <th>Steffi Graf</th>\n",
       "      <td>5</td>\n",
       "      <td>4</td>\n",
       "    </tr>\n",
       "    <tr>\n",
       "      <th>Martina Navratilova</th>\n",
       "      <td>4</td>\n",
       "      <td>3</td>\n",
       "    </tr>\n",
       "    <tr>\n",
       "      <th>Kim Clijsters</th>\n",
       "      <td>3</td>\n",
       "      <td>1</td>\n",
       "    </tr>\n",
       "    <tr>\n",
       "      <th>Margaret Court</th>\n",
       "      <td>3</td>\n",
       "      <td>4</td>\n",
       "    </tr>\n",
       "    <tr>\n",
       "      <th>Justine Henin</th>\n",
       "      <td>2</td>\n",
       "      <td>1</td>\n",
       "    </tr>\n",
       "    <tr>\n",
       "      <th>Monica Seles</th>\n",
       "      <td>2</td>\n",
       "      <td>4</td>\n",
       "    </tr>\n",
       "    <tr>\n",
       "      <th>Naomi Osaka</th>\n",
       "      <td>2</td>\n",
       "      <td>2</td>\n",
       "    </tr>\n",
       "    <tr>\n",
       "      <th>Martina Hingis</th>\n",
       "      <td>1</td>\n",
       "      <td>3</td>\n",
       "    </tr>\n",
       "    <tr>\n",
       "      <th>Lindsay Davenport</th>\n",
       "      <td>1</td>\n",
       "      <td>1</td>\n",
       "    </tr>\n",
       "    <tr>\n",
       "      <th>Virginia Wade</th>\n",
       "      <td>1</td>\n",
       "      <td>1</td>\n",
       "    </tr>\n",
       "    <tr>\n",
       "      <th>Hana Mandlíková</th>\n",
       "      <td>1</td>\n",
       "      <td>2</td>\n",
       "    </tr>\n",
       "    <tr>\n",
       "      <th>Angelique Kerber</th>\n",
       "      <td>1</td>\n",
       "      <td>1</td>\n",
       "    </tr>\n",
       "    <tr>\n",
       "      <th>Maria Sharapova</th>\n",
       "      <td>1</td>\n",
       "      <td>1</td>\n",
       "    </tr>\n",
       "  </tbody>\n",
       "</table>\n",
       "</div>"
      ],
      "text/plain": [
       "                     Champion_x  Champion_y\n",
       "Chris Evert                   6           2\n",
       "Serena Williams               6           7\n",
       "Steffi Graf                   5           4\n",
       "Martina Navratilova           4           3\n",
       "Kim Clijsters                 3           1\n",
       "Margaret Court                3           4\n",
       "Justine Henin                 2           1\n",
       "Monica Seles                  2           4\n",
       "Naomi Osaka                   2           2\n",
       "Martina Hingis                1           3\n",
       "Lindsay Davenport             1           1\n",
       "Virginia Wade                 1           1\n",
       "Hana Mandlíková               1           2\n",
       "Angelique Kerber              1           1\n",
       "Maria Sharapova               1           1"
      ]
     },
     "execution_count": 21,
     "metadata": {},
     "output_type": "execute_result"
    }
   ],
   "source": [
    "HardCourt = pd.merge(MostUs,MostAus,right_index=True,left_index=True)\n",
    "HardCourt"
   ]
  },
  {
   "cell_type": "code",
   "execution_count": 22,
   "metadata": {},
   "outputs": [
    {
     "data": {
      "text/html": [
       "<div>\n",
       "<style scoped>\n",
       "    .dataframe tbody tr th:only-of-type {\n",
       "        vertical-align: middle;\n",
       "    }\n",
       "\n",
       "    .dataframe tbody tr th {\n",
       "        vertical-align: top;\n",
       "    }\n",
       "\n",
       "    .dataframe thead th {\n",
       "        text-align: right;\n",
       "    }\n",
       "</style>\n",
       "<table border=\"1\" class=\"dataframe\">\n",
       "  <thead>\n",
       "    <tr style=\"text-align: right;\">\n",
       "      <th></th>\n",
       "      <th>Champion_x</th>\n",
       "      <th>Champion_y</th>\n",
       "    </tr>\n",
       "  </thead>\n",
       "  <tbody>\n",
       "    <tr>\n",
       "      <th>Chris Evert</th>\n",
       "      <td>7</td>\n",
       "      <td>2</td>\n",
       "    </tr>\n",
       "    <tr>\n",
       "      <th>Steffi Graf</th>\n",
       "      <td>6</td>\n",
       "      <td>7</td>\n",
       "    </tr>\n",
       "    <tr>\n",
       "      <th>Margaret Court</th>\n",
       "      <td>3</td>\n",
       "      <td>1</td>\n",
       "    </tr>\n",
       "    <tr>\n",
       "      <th>Serena Williams</th>\n",
       "      <td>3</td>\n",
       "      <td>7</td>\n",
       "    </tr>\n",
       "    <tr>\n",
       "      <th>Maria Sharapova</th>\n",
       "      <td>2</td>\n",
       "      <td>1</td>\n",
       "    </tr>\n",
       "    <tr>\n",
       "      <th>Martina Navratilova</th>\n",
       "      <td>2</td>\n",
       "      <td>9</td>\n",
       "    </tr>\n",
       "    <tr>\n",
       "      <th>Evonne Goolagong</th>\n",
       "      <td>1</td>\n",
       "      <td>1</td>\n",
       "    </tr>\n",
       "    <tr>\n",
       "      <th>Billie Jean King</th>\n",
       "      <td>1</td>\n",
       "      <td>4</td>\n",
       "    </tr>\n",
       "    <tr>\n",
       "      <th>Garbiñe Muguruza</th>\n",
       "      <td>1</td>\n",
       "      <td>1</td>\n",
       "    </tr>\n",
       "    <tr>\n",
       "      <th>Simona Halep</th>\n",
       "      <td>1</td>\n",
       "      <td>1</td>\n",
       "    </tr>\n",
       "  </tbody>\n",
       "</table>\n",
       "</div>"
      ],
      "text/plain": [
       "                     Champion_x  Champion_y\n",
       "Chris Evert                   7           2\n",
       "Steffi Graf                   6           7\n",
       "Margaret Court                3           1\n",
       "Serena Williams               3           7\n",
       "Maria Sharapova               2           1\n",
       "Martina Navratilova           2           9\n",
       "Evonne Goolagong              1           1\n",
       "Billie Jean King              1           4\n",
       "Garbiñe Muguruza              1           1\n",
       "Simona Halep                  1           1"
      ]
     },
     "execution_count": 22,
     "metadata": {},
     "output_type": "execute_result"
    }
   ],
   "source": [
    "GrassClay = pd.merge(MostFrench,MostWim,right_index=True,left_index=True)\n",
    "GrassClay"
   ]
  },
  {
   "cell_type": "code",
   "execution_count": 23,
   "metadata": {},
   "outputs": [
    {
     "name": "stdout",
     "output_type": "stream",
     "text": [
      "                     US Open  Australian Open  French Open  Wimbledon  Total\n",
      "Chris Evert                6                2            7          2     17\n",
      "Serena Williams            6                7            3          7     23\n",
      "Steffi Graf                5                4            6          7     22\n",
      "Martina Navratilova        4                3            2          9     18\n",
      "Margaret Court             3                4            3          1     11\n",
      "Maria Sharapova            1                1            2          1      5\n"
     ]
    }
   ],
   "source": [
    "CareerGrandSlam =pd.merge(HardCourt,GrassClay,right_index=True,left_index=True)\n",
    "CareerGrandSlam=CareerGrandSlam.rename(columns={'Champion_x_x':'US Open','Champion_y_x':'Australian Open','Champion_x_y':'French Open','Champion_y_y':'Wimbledon'},inplace=False)\n",
    "CareerGrandSlam['Total']=CareerGrandSlam['US Open'] + CareerGrandSlam['Australian Open'] + CareerGrandSlam['Wimbledon'] + CareerGrandSlam['French Open']\n",
    "print(CareerGrandSlam)"
   ]
  },
  {
   "cell_type": "code",
   "execution_count": 25,
   "metadata": {},
   "outputs": [
    {
     "data": {
      "text/plain": [
       "<AxesSubplot:title={'center':'Most No of Championships in Open era'}>"
      ]
     },
     "execution_count": 25,
     "metadata": {},
     "output_type": "execute_result"
    },
    {
     "data": {
      "image/png": "[encoded data removed]",
      "text/plain": [
       "<Figure size 792x360 with 1 Axes>"
      ]
     },
     "metadata": {
      "needs_background": "light"
     },
     "output_type": "display_data"
    }
   ],
   "source": [
    "Most_Champions.plot(kind='bar',rot=90,figsize=(11,5),title='Most No of Championships in Open era')"
   ]
  },
  {
   "cell_type": "code",
   "execution_count": 28,
   "metadata": {},
   "outputs": [
    {
     "data": {
      "text/plain": [
       "<AxesSubplot:title={'center':'Dominance of USA in Champion Position'}, ylabel='Ctry_Champion'>"
      ]
     },
     "execution_count": 28,
     "metadata": {},
     "output_type": "execute_result"
    },
    {
     "data": {
      "image/png": "[encoded data removed]",
      "text/plain": [
       "<Figure size 792x360 with 1 Axes>"
      ]
     },
     "metadata": {},
     "output_type": "display_data"
    }
   ],
   "source": [
    "ChampionNation.plot(kind='pie',figsize=(11,5),title='Dominance of USA in Champion Position')"
   ]
  },
  {
   "cell_type": "code",
   "execution_count": null,
   "metadata": {},
   "outputs": [],
   "source": []
  }
 ],
 "metadata": {
  "kernelspec": {
   "display_name": "Python 3",
   "language": "python",
   "name": "python3"
  },
  "language_info": {
   "codemirror_mode": {
    "name": "ipython",
    "version": 3
   },
   "file_extension": ".py",
   "mimetype": "text/x-python",
   "name": "python",
   "nbconvert_exporter": "python",
   "pygments_lexer": "ipython3",
   "version": "3.8.5"
  }
 },
 "nbformat": 4,
 "nbformat_minor": 4
}
